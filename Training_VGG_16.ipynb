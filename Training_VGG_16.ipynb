{
  "nbformat": 4,
  "nbformat_minor": 0,
  "metadata": {
    "colab": {
      "name": "Training_VGG-16.ipynb",
      "provenance": [],
      "collapsed_sections": []
    },
    "kernelspec": {
      "name": "python3",
      "display_name": "Python 3"
    },
    "accelerator": "GPU"
  },
  "cells": [
    {
      "cell_type": "code",
      "metadata": {
        "id": "yyH99jQ8OE7G",
        "colab": {
          "base_uri": "https://localhost:8080/"
        },
        "outputId": "34e6c1cd-c676-4030-befe-b7757fe5c827"
      },
      "source": [
        "#Mounting to the google drive\n",
        "\n",
        "from google.colab import drive\n",
        "drive.mount('/content/gdrive')"
      ],
      "execution_count": null,
      "outputs": [
        {
          "output_type": "stream",
          "text": [
            "Mounted at /content/gdrive\n"
          ],
          "name": "stdout"
        }
      ]
    },
    {
      "cell_type": "code",
      "metadata": {
        "id": "cD0jwYAbH2hZ",
        "colab": {
          "base_uri": "https://localhost:8080/"
        },
        "outputId": "17c0f45b-5ff2-411c-8d99-75a5f3c072da"
      },
      "source": [
        "#Mounting dataset\n",
        "\n",
        "#_____________ simplified setup of PJM ________________\n",
        "\n",
        "#This is a simplified setup including only some of the letters. The data can be downloaded from:\n",
        "! git clone  https://github.com/EwaSzyszka/Stillness   \n",
        "\n",
        "#_________________ complete PJM100 _____________________\n",
        "\n",
        "#For complete PJM 100 dataset two set ups are recomended:\n",
        "#(1) Downloading filed localy from https://dataverse.harvard.edu/dataset.xhtml?persistentId=doi:10.7910/DVN/K142HP \n",
        "\n",
        "#(2) Cloning files from the repository: \n",
        "#! git clone  https://github.com/ESzyszka/PJM100\n",
        "\n",
        "#_______________________________________________________"
      ],
      "execution_count": 2,
      "outputs": [
        {
          "output_type": "stream",
          "text": [
            "Cloning into 'Stillness'...\n",
            "remote: Enumerating objects: 106, done.\u001b[K\n",
            "remote: Total 106 (delta 0), reused 0 (delta 0), pack-reused 106\u001b[K\n",
            "Receiving objects: 100% (106/106), 36.09 MiB | 39.40 MiB/s, done.\n"
          ],
          "name": "stdout"
        }
      ]
    },
    {
      "cell_type": "code",
      "metadata": {
        "id": "xKWZ32f3IAOx",
        "colab": {
          "base_uri": "https://localhost:8080/"
        },
        "outputId": "edc6ca4f-19ea-4ab0-d1d2-e3b88eef1544"
      },
      "source": [
        "#Checking the location that we are at \n",
        "\n",
        "! ls"
      ],
      "execution_count": 3,
      "outputs": [
        {
          "output_type": "stream",
          "text": [
            "gdrive\tsample_data  Stillness\n"
          ],
          "name": "stdout"
        }
      ]
    },
    {
      "cell_type": "code",
      "metadata": {
        "id": "ETSboMzGIFSa",
        "colab": {
          "base_uri": "https://localhost:8080/"
        },
        "outputId": "3b341a10-4789-4bbf-f328-ff21a17c0bff"
      },
      "source": [
        "#Checking the working directory \n",
        "\n",
        "! pwd"
      ],
      "execution_count": 4,
      "outputs": [
        {
          "output_type": "stream",
          "text": [
            "/content\n"
          ],
          "name": "stdout"
        }
      ]
    },
    {
      "cell_type": "code",
      "metadata": {
        "id": "5V9N9lO5bsfE"
      },
      "source": [
        "#___________________ HERE BEGINS THE VGG MODEL ___________________"
      ],
      "execution_count": null,
      "outputs": []
    },
    {
      "cell_type": "code",
      "metadata": {
        "id": "Edied5YSbskT"
      },
      "source": [
        "import tensorflow as tf\n",
        "from tensorflow.python.keras.models import Sequential\n",
        "from tensorflow.python.keras.layers import Dense, Dropout, Activation, Flatten, Conv2D, MaxPooling2D\n",
        "from keras.models import load_model\n",
        "from keras.models import Sequential\n",
        "from keras.layers import Dense, Conv2D, Flatten \n",
        "import keras\n",
        "\n",
        "#Model loading imports \n",
        "import json\n",
        "import numpy as np\n",
        "from keras import models\n",
        "from keras.models import model_from_json, load_model\n",
        "\n",
        "#Data procesing imports \n",
        "from sklearn.preprocessing import LabelBinarizer\n",
        "from sklearn.model_selection import train_test_split\n",
        "import numpy as np\n",
        "import random\n",
        "import pickle\n",
        "\n",
        "#Visualization imports \n",
        "import os\n",
        "import cv2\n",
        "import glob\n",
        "from PIL import Image\n",
        "import matplotlib.pyplot as plt\n",
        "from matplotlib.pyplot import imshow\n",
        "from matplotlib import pyplot as plt\n",
        "from IPython.display import display\n",
        "%matplotlib inline"
      ],
      "execution_count": 5,
      "outputs": []
    },
    {
      "cell_type": "code",
      "metadata": {
        "id": "ZEUlyi7bdIzJ",
        "colab": {
          "base_uri": "https://localhost:8080/"
        },
        "outputId": "cee2cedb-5c9c-4ea4-c045-26a85e7d6b57"
      },
      "source": [
        "\n",
        "#_____ SETTING THE DATA PATH ______\n",
        "DATADIR = \"/content/Stillness/\"\n",
        "#DATADIR = \"/content/PJM100/\"\n",
        "\n",
        "#_____ CATEGORIES OF CLASSES ______\n",
        "CATEGORIES = ['A','B']\n",
        "#This is the final list for PJM100:\n",
        "#CATEGORIES = [\"A\",\"A_\", \"B\", \"C\",\"C_\",\"CH\",\"CZ\" \"D\", \"E\",\"E_\",\"F\", \"G\", \"I\",\"J\", \"K\" , \"L\",\"L_\" \"M\", \"N\",\"N_\" , \"O\",\"O_\" \"P\", \"R\",\"RZ\" \"S\",\"S_\" \"T\" , \"U\" , \"W\", \"Y\",\"Z\",\"Z_o\",\"Z_\" ]\n",
        "\n",
        "#_____ SETTING UP THE TRAINING DATA ______\n",
        "\n",
        "'''setting the size of the images to 50x50'''\n",
        "IMG_SIZE = 224\n",
        "\n",
        "training_data = []\n",
        "\n",
        "def create_training_data():\n",
        "    for category in CATEGORIES:\n",
        "        path = os.path.join(DATADIR, category)\n",
        "        '''One hot encoding'''\n",
        "        one_hot_target = np.zeros(len(CATEGORIES))\n",
        "        class_num = CATEGORIES.index(category)  \n",
        "        one_hot_target[class_num] = 1\n",
        "        \n",
        "        for img in os.listdir(path):\n",
        "            try:\n",
        "                '''resizing the images and attaching one hot encoded values'''\n",
        "                img_array = cv2.imread(os.path.join(path, img)) \n",
        "                new_array = cv2.resize(img_array, (IMG_SIZE, IMG_SIZE),3)   \n",
        "                training_data.append([new_array,one_hot_target])  \n",
        "            except Exception as e:\n",
        "                pass\n",
        "\n",
        "create_training_data()\n",
        "\n",
        "#___ SHUFFLING THE DATA TO IMPROVE THE TRAINING QUALITY _____\n",
        "random.shuffle(training_data)\n",
        "\n",
        "#____PRINTING SAMPLE DATA_____\n",
        "for sample in training_data[:1]:\n",
        "    print(\"This is one hot encoded label: \\n\", sample[1])\n",
        "    print(\"This is np.array of an image: \\n\", sample[0])\n",
        "\n",
        "X = [] #feature set\n",
        "y = [] #labels\n",
        "\n",
        "for features, label in training_data:\n",
        "    X.append(features)\n",
        "    y.append(np.asarray(label)) #converting y to np array \n",
        "    \n",
        "X = np.array(X).reshape(-1,IMG_SIZE,IMG_SIZE, 3) # 1 because it is a gray scale\n"
      ],
      "execution_count": 7,
      "outputs": [
        {
          "output_type": "stream",
          "text": [
            "This is one hot encoded label: \n",
            " [1. 0.]\n",
            "This is np.array of an image: \n",
            " [[[ 81  58  56]\n",
            "  [ 79  59  59]\n",
            "  [ 76  55  55]\n",
            "  ...\n",
            "  [103  99  97]\n",
            "  [ 61  49  48]\n",
            "  [255   0   0]]\n",
            "\n",
            " [[ 82  62  61]\n",
            "  [ 78  58  58]\n",
            "  [ 80  59  59]\n",
            "  ...\n",
            "  [134 139 145]\n",
            "  [142 142 148]\n",
            "  [255   0   0]]\n",
            "\n",
            " [[ 76  58  57]\n",
            "  [ 82  64  64]\n",
            "  [ 76  58  58]\n",
            "  ...\n",
            "  [119 126 134]\n",
            "  [126 133 143]\n",
            "  [255   0   0]]\n",
            "\n",
            " ...\n",
            "\n",
            " [[  0   0   0]\n",
            "  [  0   0   0]\n",
            "  [  0   0   0]\n",
            "  ...\n",
            "  [149 145 141]\n",
            "  [149 148 143]\n",
            "  [255   0   0]]\n",
            "\n",
            " [[  0   0   0]\n",
            "  [  1   0   0]\n",
            "  [  3   0   0]\n",
            "  ...\n",
            "  [150 146 142]\n",
            "  [151 147 143]\n",
            "  [255   0   0]]\n",
            "\n",
            " [[255   0   0]\n",
            "  [255   0   0]\n",
            "  [255   0   0]\n",
            "  ...\n",
            "  [255   0   0]\n",
            "  [255   0   0]\n",
            "  [255   0   0]]]\n"
          ],
          "name": "stdout"
        }
      ]
    },
    {
      "cell_type": "code",
      "metadata": {
        "id": "GMn2PlnHA5GA"
      },
      "source": [
        "#____ NORMALIZING THE IMAGE DATA _____ \n",
        "X = X/255.0"
      ],
      "execution_count": 8,
      "outputs": []
    },
    {
      "cell_type": "code",
      "metadata": {
        "id": "enXVJHMZBEjz",
        "colab": {
          "base_uri": "https://localhost:8080/"
        },
        "outputId": "5fcf335f-3762-4160-be18-febec719ca08"
      },
      "source": [
        "#_____ PRINTING SHAPE OF X AND Y _____\n",
        "X = np.asarray(X)\n",
        "y = np.asarray(y)\n",
        "print(X.shape,y.shape)"
      ],
      "execution_count": 9,
      "outputs": [
        {
          "output_type": "stream",
          "text": [
            "(97, 224, 224, 3) (97, 2)\n"
          ],
          "name": "stdout"
        }
      ]
    },
    {
      "cell_type": "code",
      "metadata": {
        "id": "Vive60SXBIYp"
      },
      "source": [
        "#____ TEST-TRAIN SPLIT THE DATA _____ \n",
        "\n",
        "X_train, X_test, y_train, y_test = train_test_split(X, y, test_size=0.33, random_state=42)"
      ],
      "execution_count": 10,
      "outputs": []
    },
    {
      "cell_type": "code",
      "metadata": {
        "id": "qQGSnn3LBK94",
        "colab": {
          "base_uri": "https://localhost:8080/"
        },
        "outputId": "be69f7dd-f67d-4762-f095-033abbbfb1df"
      },
      "source": [
        "#____ LENGTH OF THE TEST-TRAIN DATA_____\n",
        "\n",
        "print(\"\\n X train:\",len(X_train),\"\\n y train:\",len(y_train),\"\\n X test:\" ,len(X_test),\"\\n y test:\",len(y_test))"
      ],
      "execution_count": 11,
      "outputs": [
        {
          "output_type": "stream",
          "text": [
            "\n",
            " X train: 64 \n",
            " y train: 64 \n",
            " X test: 33 \n",
            " y test: 33\n"
          ],
          "name": "stdout"
        }
      ]
    },
    {
      "cell_type": "code",
      "metadata": {
        "id": "kldXyFlyBN58"
      },
      "source": [
        "#_____RESHAPING THE DATA ______ \n",
        "\n",
        "X_train = X_train.reshape(64,224,224,3)\n",
        "X_test = X_test.reshape(33,224,224,3)\n",
        "\n",
        "#X_train = X_train.reshape(64,50,50,3)\n",
        "#X_test = X_test.reshape(33,50,50,3)\n",
        "#X_train = X_train.reshape(589,50,50,3)\n",
        "#X_test = X_test.reshape(291,50,50,3)"
      ],
      "execution_count": 12,
      "outputs": []
    },
    {
      "cell_type": "code",
      "metadata": {
        "id": "WIKLB_7gBYlz",
        "colab": {
          "base_uri": "https://localhost:8080/"
        },
        "outputId": "fb3b0c04-89d0-48c0-b3b5-81182cd18126"
      },
      "source": [
        "#____ LENGTH OF THE TEST-TRAIN DATA AFTER RESHAPING____\n",
        "\n",
        "print(\"\\n X train:\",len(X_train),\"\\n y train:\",len(y_train),\"\\n X test:\" ,len(X_test),\"\\n y test:\",len(y_test))"
      ],
      "execution_count": 13,
      "outputs": [
        {
          "output_type": "stream",
          "text": [
            "\n",
            " X train: 64 \n",
            " y train: 64 \n",
            " X test: 33 \n",
            " y test: 33\n"
          ],
          "name": "stdout"
        }
      ]
    },
    {
      "cell_type": "code",
      "metadata": {
        "id": "VUomn6vuBbw3",
        "colab": {
          "base_uri": "https://localhost:8080/"
        },
        "outputId": "29994631-3d97-425d-b658-dead3bf03e9f"
      },
      "source": [
        "#_____ CONVERTING TO NP.ARRAY _____\n",
        "y_train = np.asarray(y_train)\n",
        "y_test = np.asarray(y_test)\n",
        "type(y_train)"
      ],
      "execution_count": 14,
      "outputs": [
        {
          "output_type": "execute_result",
          "data": {
            "text/plain": [
              "numpy.ndarray"
            ]
          },
          "metadata": {
            "tags": []
          },
          "execution_count": 14
        }
      ]
    },
    {
      "cell_type": "code",
      "metadata": {
        "id": "AYvB0DpaVzTu",
        "colab": {
          "base_uri": "https://localhost:8080/"
        },
        "outputId": "3e68c747-c3c8-472d-a1f4-fdf981268af4"
      },
      "source": [
        "print(X_train.shape,y_train.shape)"
      ],
      "execution_count": 15,
      "outputs": [
        {
          "output_type": "stream",
          "text": [
            "(64, 224, 224, 3) (64, 2)\n"
          ],
          "name": "stdout"
        }
      ]
    },
    {
      "cell_type": "code",
      "metadata": {
        "id": "rE2UrQkBaRjj",
        "colab": {
          "base_uri": "https://localhost:8080/"
        },
        "outputId": "f8791cda-0391-4755-fe17-79db7123af3e"
      },
      "source": [
        "print(y_train)"
      ],
      "execution_count": 16,
      "outputs": [
        {
          "output_type": "stream",
          "text": [
            "[[1. 0.]\n",
            " [1. 0.]\n",
            " [1. 0.]\n",
            " [0. 1.]\n",
            " [1. 0.]\n",
            " [0. 1.]\n",
            " [0. 1.]\n",
            " [0. 1.]\n",
            " [1. 0.]\n",
            " [0. 1.]\n",
            " [1. 0.]\n",
            " [0. 1.]\n",
            " [1. 0.]\n",
            " [1. 0.]\n",
            " [1. 0.]\n",
            " [1. 0.]\n",
            " [0. 1.]\n",
            " [1. 0.]\n",
            " [1. 0.]\n",
            " [1. 0.]\n",
            " [0. 1.]\n",
            " [1. 0.]\n",
            " [0. 1.]\n",
            " [0. 1.]\n",
            " [1. 0.]\n",
            " [0. 1.]\n",
            " [0. 1.]\n",
            " [0. 1.]\n",
            " [1. 0.]\n",
            " [0. 1.]\n",
            " [0. 1.]\n",
            " [1. 0.]\n",
            " [1. 0.]\n",
            " [1. 0.]\n",
            " [1. 0.]\n",
            " [1. 0.]\n",
            " [0. 1.]\n",
            " [0. 1.]\n",
            " [1. 0.]\n",
            " [1. 0.]\n",
            " [1. 0.]\n",
            " [1. 0.]\n",
            " [1. 0.]\n",
            " [0. 1.]\n",
            " [1. 0.]\n",
            " [1. 0.]\n",
            " [1. 0.]\n",
            " [0. 1.]\n",
            " [1. 0.]\n",
            " [1. 0.]\n",
            " [1. 0.]\n",
            " [1. 0.]\n",
            " [0. 1.]\n",
            " [0. 1.]\n",
            " [1. 0.]\n",
            " [0. 1.]\n",
            " [1. 0.]\n",
            " [1. 0.]\n",
            " [0. 1.]\n",
            " [0. 1.]\n",
            " [0. 1.]\n",
            " [0. 1.]\n",
            " [0. 1.]\n",
            " [0. 1.]]\n"
          ],
          "name": "stdout"
        }
      ]
    },
    {
      "cell_type": "code",
      "metadata": {
        "id": "NJp_D6g8Zk-E",
        "colab": {
          "base_uri": "https://localhost:8080/"
        },
        "outputId": "83f7373d-8c5a-4275-812a-ce8b7918962f"
      },
      "source": [
        "#___FINAL VGG MODEL BASED ON THE TUTORIAL https://deeplizard.com/learn/video/oDHpqu52soI _____\n",
        "\n",
        "from __future__ import division, print_function\n",
        "\n",
        "import os, json\n",
        "from glob import glob\n",
        "import numpy as np\n",
        "from scipy import misc, ndimage\n",
        "from scipy.ndimage.interpolation import zoom\n",
        "\n",
        "from keras import backend as K\n",
        "from keras.layers.normalization import BatchNormalization\n",
        "from keras.utils.data_utils import get_file\n",
        "from keras.models import Sequential\n",
        "from keras.layers.core import Flatten, Dense, Dropout, Lambda\n",
        "from keras.layers.convolutional import Convolution2D, MaxPooling2D, ZeroPadding2D\n",
        "from keras.layers.pooling import GlobalAveragePooling2D\n",
        "from keras.optimizers import SGD, RMSprop, Adam\n",
        "from keras.preprocessing import image\n",
        "import keras   \n",
        "import keras.applications.vgg16\n",
        "from  keras.layers import Input\n",
        "\n",
        "\n",
        "input_tensor = Input(shape=(224,224,3))\n",
        "VGG_model=keras.applications.vgg16.VGG16(weights='imagenet',include_top= True,input_tensor=input_tensor)\n",
        "\n",
        "VGG_model.summary()\n",
        "\n",
        "\n",
        "print(type(VGG_model))\n",
        "\n",
        "#Replicating the VGG 16 model again appart from the last Dense layer, which needs to be changed. By default there are 1000 categories to be detected \n",
        "#and I need to change it to the desired number of categories detected. \n",
        "model = Sequential()\n",
        "for layer in VGG_model.layers[:-1]:\n",
        "    model.add(layer)\n",
        "\n",
        "#you set this if the hands are included in the original imagenet category\n",
        "for layer in model.layers:\n",
        "    layer.trainable = False\n",
        "\n",
        "#here you change the number of units to the number of categories that you need to recognise \n",
        "model.add(Dense(units=2, activation='softmax'))\n",
        "model.summary()\n",
        "\n",
        "model.compile(optimizer=Adam(learning_rate=0.0001), loss='categorical_crossentropy', metrics=['accuracy'])\n",
        "model.fit(X_train, y_train, validation_data=(X_test, y_test), epochs=3)\n",
        "#the last dense layer must contain the number of predictions\n",
        "\n",
        "#VGG_model.compile(loss='sparse_categorical_crossentropy', optimizer=tf.keras.optimizers.Adadelta(rho=0.9), metrics=['sparse_categorical_accuracy'])\n",
        "#VGG_model.fit(X_train, y_train, validation_data=(X_test, y_test), epochs=3)"
      ],
      "execution_count": 19,
      "outputs": [
        {
          "output_type": "stream",
          "text": [
            "Downloading data from https://storage.googleapis.com/tensorflow/keras-applications/vgg16/vgg16_weights_tf_dim_ordering_tf_kernels.h5\n",
            "553467904/553467096 [==============================] - 4s 0us/step\n",
            "Model: \"vgg16\"\n",
            "_________________________________________________________________\n",
            "Layer (type)                 Output Shape              Param #   \n",
            "=================================================================\n",
            "input_1 (InputLayer)         [(None, 224, 224, 3)]     0         \n",
            "_________________________________________________________________\n",
            "block1_conv1 (Conv2D)        (None, 224, 224, 64)      1792      \n",
            "_________________________________________________________________\n",
            "block1_conv2 (Conv2D)        (None, 224, 224, 64)      36928     \n",
            "_________________________________________________________________\n",
            "block1_pool (MaxPooling2D)   (None, 112, 112, 64)      0         \n",
            "_________________________________________________________________\n",
            "block2_conv1 (Conv2D)        (None, 112, 112, 128)     73856     \n",
            "_________________________________________________________________\n",
            "block2_conv2 (Conv2D)        (None, 112, 112, 128)     147584    \n",
            "_________________________________________________________________\n",
            "block2_pool (MaxPooling2D)   (None, 56, 56, 128)       0         \n",
            "_________________________________________________________________\n",
            "block3_conv1 (Conv2D)        (None, 56, 56, 256)       295168    \n",
            "_________________________________________________________________\n",
            "block3_conv2 (Conv2D)        (None, 56, 56, 256)       590080    \n",
            "_________________________________________________________________\n",
            "block3_conv3 (Conv2D)        (None, 56, 56, 256)       590080    \n",
            "_________________________________________________________________\n",
            "block3_pool (MaxPooling2D)   (None, 28, 28, 256)       0         \n",
            "_________________________________________________________________\n",
            "block4_conv1 (Conv2D)        (None, 28, 28, 512)       1180160   \n",
            "_________________________________________________________________\n",
            "block4_conv2 (Conv2D)        (None, 28, 28, 512)       2359808   \n",
            "_________________________________________________________________\n",
            "block4_conv3 (Conv2D)        (None, 28, 28, 512)       2359808   \n",
            "_________________________________________________________________\n",
            "block4_pool (MaxPooling2D)   (None, 14, 14, 512)       0         \n",
            "_________________________________________________________________\n",
            "block5_conv1 (Conv2D)        (None, 14, 14, 512)       2359808   \n",
            "_________________________________________________________________\n",
            "block5_conv2 (Conv2D)        (None, 14, 14, 512)       2359808   \n",
            "_________________________________________________________________\n",
            "block5_conv3 (Conv2D)        (None, 14, 14, 512)       2359808   \n",
            "_________________________________________________________________\n",
            "block5_pool (MaxPooling2D)   (None, 7, 7, 512)         0         \n",
            "_________________________________________________________________\n",
            "flatten (Flatten)            (None, 25088)             0         \n",
            "_________________________________________________________________\n",
            "fc1 (Dense)                  (None, 4096)              102764544 \n",
            "_________________________________________________________________\n",
            "fc2 (Dense)                  (None, 4096)              16781312  \n",
            "_________________________________________________________________\n",
            "predictions (Dense)          (None, 1000)              4097000   \n",
            "=================================================================\n",
            "Total params: 138,357,544\n",
            "Trainable params: 138,357,544\n",
            "Non-trainable params: 0\n",
            "_________________________________________________________________\n",
            "<class 'tensorflow.python.keras.engine.functional.Functional'>\n",
            "Model: \"sequential_2\"\n",
            "_________________________________________________________________\n",
            "Layer (type)                 Output Shape              Param #   \n",
            "=================================================================\n",
            "block1_conv1 (Conv2D)        (None, 224, 224, 64)      1792      \n",
            "_________________________________________________________________\n",
            "block1_conv2 (Conv2D)        (None, 224, 224, 64)      36928     \n",
            "_________________________________________________________________\n",
            "block1_pool (MaxPooling2D)   (None, 112, 112, 64)      0         \n",
            "_________________________________________________________________\n",
            "block2_conv1 (Conv2D)        (None, 112, 112, 128)     73856     \n",
            "_________________________________________________________________\n",
            "block2_conv2 (Conv2D)        (None, 112, 112, 128)     147584    \n",
            "_________________________________________________________________\n",
            "block2_pool (MaxPooling2D)   (None, 56, 56, 128)       0         \n",
            "_________________________________________________________________\n",
            "block3_conv1 (Conv2D)        (None, 56, 56, 256)       295168    \n",
            "_________________________________________________________________\n",
            "block3_conv2 (Conv2D)        (None, 56, 56, 256)       590080    \n",
            "_________________________________________________________________\n",
            "block3_conv3 (Conv2D)        (None, 56, 56, 256)       590080    \n",
            "_________________________________________________________________\n",
            "block3_pool (MaxPooling2D)   (None, 28, 28, 256)       0         \n",
            "_________________________________________________________________\n",
            "block4_conv1 (Conv2D)        (None, 28, 28, 512)       1180160   \n",
            "_________________________________________________________________\n",
            "block4_conv2 (Conv2D)        (None, 28, 28, 512)       2359808   \n",
            "_________________________________________________________________\n",
            "block4_conv3 (Conv2D)        (None, 28, 28, 512)       2359808   \n",
            "_________________________________________________________________\n",
            "block4_pool (MaxPooling2D)   (None, 14, 14, 512)       0         \n",
            "_________________________________________________________________\n",
            "block5_conv1 (Conv2D)        (None, 14, 14, 512)       2359808   \n",
            "_________________________________________________________________\n",
            "block5_conv2 (Conv2D)        (None, 14, 14, 512)       2359808   \n",
            "_________________________________________________________________\n",
            "block5_conv3 (Conv2D)        (None, 14, 14, 512)       2359808   \n",
            "_________________________________________________________________\n",
            "block5_pool (MaxPooling2D)   (None, 7, 7, 512)         0         \n",
            "_________________________________________________________________\n",
            "flatten (Flatten)            (None, 25088)             0         \n",
            "_________________________________________________________________\n",
            "fc1 (Dense)                  (None, 4096)              102764544 \n",
            "_________________________________________________________________\n",
            "fc2 (Dense)                  (None, 4096)              16781312  \n",
            "_________________________________________________________________\n",
            "dense_2 (Dense)              (None, 2)                 8194      \n",
            "=================================================================\n",
            "Total params: 134,268,738\n",
            "Trainable params: 8,194\n",
            "Non-trainable params: 134,260,544\n",
            "_________________________________________________________________\n",
            "Epoch 1/3\n",
            "2/2 [==============================] - 39s 1s/step - loss: 0.8587 - accuracy: 0.5938 - val_loss: 0.7612 - val_accuracy: 0.6061\n",
            "Epoch 2/3\n",
            "2/2 [==============================] - 0s 272ms/step - loss: 0.7537 - accuracy: 0.5729 - val_loss: 0.7162 - val_accuracy: 0.6061\n",
            "Epoch 3/3\n",
            "2/2 [==============================] - 0s 266ms/step - loss: 0.7282 - accuracy: 0.4479 - val_loss: 0.7503 - val_accuracy: 0.2727\n"
          ],
          "name": "stdout"
        },
        {
          "output_type": "execute_result",
          "data": {
            "text/plain": [
              "<tensorflow.python.keras.callbacks.History at 0x7f130a538710>"
            ]
          },
          "metadata": {
            "tags": []
          },
          "execution_count": 19
        }
      ]
    },
    {
      "cell_type": "code",
      "metadata": {
        "id": "MOVbfcduKMMI"
      },
      "source": [
        "from sklearn import metrics\n",
        "from sklearn.metrics import confusion_matrix"
      ],
      "execution_count": 20,
      "outputs": []
    },
    {
      "cell_type": "code",
      "metadata": {
        "id": "lz0L7TgQBo94",
        "colab": {
          "base_uri": "https://localhost:8080/"
        },
        "outputId": "68445d03-c7db-4c1d-857f-1b1b110a7ccd"
      },
      "source": [
        "#Model loss and model accuracy \n",
        "\n",
        "score = model.evaluate(X_test, y_test, verbose=0)\n",
        "print('Test loss:', score[0])\n",
        "print('Test accuracy:', score[1])"
      ],
      "execution_count": 21,
      "outputs": [
        {
          "output_type": "stream",
          "text": [
            "Test loss: 0.7503198981285095\n",
            "Test accuracy: 0.27272728085517883\n"
          ],
          "name": "stdout"
        }
      ]
    },
    {
      "cell_type": "code",
      "metadata": {
        "colab": {
          "base_uri": "https://localhost:8080/"
        },
        "id": "9JK7T5fAIirA",
        "outputId": "b0297f7a-aaad-4291-8089-417bb8efb3b5"
      },
      "source": [
        "preds = np.round(model.predict(X_test),0)\n",
        "\n",
        "signs = [\"A\", \"B\", \"C\", \"D\", \"E\",\"F\", \"G\", \"I\", \"K\" , \"L\", \"M\", \"N\" , \"O\", \"P\", \"R\", \"S\", \"T\" , \"U\" , \"W\", \"Y\" ]\n",
        "signs = [\"A\",\"B\"]\n",
        "classification_metrics = metrics.classification_report(y_test, preds, target_names=signs)\n",
        "print(classification_metrics)"
      ],
      "execution_count": 22,
      "outputs": [
        {
          "output_type": "stream",
          "text": [
            "              precision    recall  f1-score   support\n",
            "\n",
            "           A       0.33      0.20      0.25        20\n",
            "           B       0.24      0.38      0.29        13\n",
            "\n",
            "   micro avg       0.27      0.27      0.27        33\n",
            "   macro avg       0.29      0.29      0.27        33\n",
            "weighted avg       0.30      0.27      0.27        33\n",
            " samples avg       0.27      0.27      0.27        33\n",
            "\n"
          ],
          "name": "stdout"
        }
      ]
    },
    {
      "cell_type": "code",
      "metadata": {
        "id": "f1IKUARlBr_-",
        "colab": {
          "base_uri": "https://localhost:8080/",
          "height": 283
        },
        "outputId": "e1839d59-436f-456c-ad78-87b01aba7109"
      },
      "source": [
        "#________ MAKING A TEST PREDICTION _______\n",
        "\n",
        "first_predictions = model.predict(X_test[:4])\n",
        "\n",
        "'''Showing one hot encoded label that the prediction was made on '''\n",
        "print(y_test[0])\n",
        "\n",
        "\"\"\"Showing the image that the prediction was made on\"\"\"\n",
        "plt.imshow(Image.fromarray(X_test[0],'RGB'), interpolation='nearest')\n",
        "plt.axis(\"off\")\n",
        "plt.show()\n",
        "\n",
        "'''Showing was was actually predicted'''\n",
        "print(first_predictions[0])"
      ],
      "execution_count": 23,
      "outputs": [
        {
          "output_type": "stream",
          "text": [
            "[1. 0.]\n"
          ],
          "name": "stdout"
        },
        {
          "output_type": "display_data",
          "data": {
            "image/png": "[encoded data removed]",
            "text/plain": [
              "<Figure size 432x288 with 1 Axes>"
            ]
          },
          "metadata": {
            "tags": [],
            "needs_background": "light"
          }
        },
        {
          "output_type": "stream",
          "text": [
            "[0.43888134 0.5611187 ]\n"
          ],
          "name": "stdout"
        }
      ]
    },
    {
      "cell_type": "code",
      "metadata": {
        "id": "e9NL9AkgBu6i"
      },
      "source": [
        "#____ SAVINGS THE TRAINED MODEL ____ \n",
        "model.save('my_model.h5')"
      ],
      "execution_count": 24,
      "outputs": []
    },
    {
      "cell_type": "code",
      "metadata": {
        "id": "eygP4v0HBx3L",
        "colab": {
          "base_uri": "https://localhost:8080/"
        },
        "outputId": "d00481d1-ba92-466a-fe88-a47d3650a16f"
      },
      "source": [
        "model_json = model.to_json()\n",
        "with open(\"model.json\", \"w\") as json_file:             \n",
        "     json_file.write(model_json) \n",
        "\n",
        "model.save_weights(\"model.h5\")\n",
        "print(\"Saved model to disk\")"
      ],
      "execution_count": 25,
      "outputs": [
        {
          "output_type": "stream",
          "text": [
            "Saved model to disk\n"
          ],
          "name": "stdout"
        }
      ]
    }
  ]
}